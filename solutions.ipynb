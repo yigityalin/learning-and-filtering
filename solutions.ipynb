{
 "cells": [
  {
   "cell_type": "markdown",
   "id": "c37b9cbf",
   "metadata": {},
   "source": [
    "## Author"
   ]
  },
  {
   "cell_type": "markdown",
   "id": "680e4f1f",
   "metadata": {},
   "source": [
    "**Full Name: Yiğit Yalın**\n",
    "\n",
    "**Student ID: 22002178**"
   ]
  },
  {
   "cell_type": "markdown",
   "id": "81e2f08c",
   "metadata": {},
   "source": [
    "### Import the required libraries"
   ]
  },
  {
   "cell_type": "code",
   "execution_count": 1,
   "id": "00108594",
   "metadata": {},
   "outputs": [],
   "source": [
    "from enum import IntEnum\n",
    "from scipy.optimize import minimize\n",
    "from tabulate import tabulate\n",
    "from tqdm import tqdm\n",
    "\n",
    "import matplotlib.pyplot as plt\n",
    "import numpy as np\n",
    "%matplotlib inline\n",
    "\n",
    "np.set_printoptions(precision=5)"
   ]
  },
  {
   "cell_type": "markdown",
   "id": "ac9e58c4",
   "metadata": {},
   "source": [
    "# Problem 1: Value Iteration/Policy Iteration/Q-Learning and Linear Programming"
   ]
  },
  {
   "cell_type": "markdown",
   "id": "bbf5e9b0",
   "metadata": {},
   "source": [
    "## Enumerate the states"
   ]
  },
  {
   "cell_type": "code",
   "execution_count": 2,
   "id": "60325198",
   "metadata": {},
   "outputs": [],
   "source": [
    "class States(IntEnum):\n",
    "    BAD = 0\n",
    "    GOOD = 1"
   ]
  },
  {
   "cell_type": "markdown",
   "id": "092cf83a",
   "metadata": {},
   "source": [
    "## Enumerate the actions"
   ]
  },
  {
   "cell_type": "code",
   "execution_count": 3,
   "id": "2f6921d5",
   "metadata": {},
   "outputs": [],
   "source": [
    "class Actions(IntEnum):\n",
    "    DONT_USE = 0\n",
    "    USE = 1"
   ]
  },
  {
   "cell_type": "markdown",
   "id": "e466b791",
   "metadata": {},
   "source": [
    "## Define the cost function"
   ]
  },
  {
   "cell_type": "markdown",
   "id": "ac5d76e6",
   "metadata": {},
   "source": [
    "Note that int(False) returns 0 and int(True) returns 1."
   ]
  },
  {
   "cell_type": "code",
   "execution_count": 4,
   "id": "c5e50bd4",
   "metadata": {},
   "outputs": [],
   "source": [
    "def c(state, action, eta):\n",
    "    return eta * action - int(state == States.GOOD and action == Actions.USE)"
   ]
  },
  {
   "cell_type": "markdown",
   "id": "27efcf4f",
   "metadata": {},
   "source": [
    "## Define the discount factor"
   ]
  },
  {
   "cell_type": "markdown",
   "id": "ba553ba5",
   "metadata": {},
   "source": [
    "Let $\\beta = 0.9 \\in (0, 1)$"
   ]
  },
  {
   "cell_type": "code",
   "execution_count": 5,
   "id": "a0b6d34c",
   "metadata": {},
   "outputs": [],
   "source": [
    "beta = 0.9"
   ]
  },
  {
   "cell_type": "markdown",
   "id": "c2d6abd8",
   "metadata": {},
   "source": [
    "## Construct the one-step transition matrices"
   ]
  },
  {
   "cell_type": "code",
   "execution_count": 6,
   "id": "90970c5d",
   "metadata": {},
   "outputs": [
    {
     "execution_count": 6,
     "name": "stdout",
     "output_type": "stream",
     "text": [
      "[[0.2 0.8]\n",
      " [0.2 0.8]]\n"
     ]
    }
   ],
   "source": [
    "P_dont_use = np.array([\n",
    "    [0.2, 0.8],\n",
    "    [0.2, 0.8]\n",
    "])\n",
    "\n",
    "print(P_dont_use)"
   ]
  },
  {
   "cell_type": "code",
   "execution_count": 7,
   "id": "15d33c8c",
   "metadata": {},
   "outputs": [
    {
     "execution_count": 7,
     "name": "stdout",
     "output_type": "stream",
     "text": [
      "[[0.5 0.5]\n",
      " [0.6 0.4]]\n"
     ]
    }
   ],
   "source": [
    "P_use = np.array([\n",
    "    [0.5, 0.5],\n",
    "    [0.6, 0.4]\n",
    "])\n",
    "\n",
    "print(P_use)"
   ]
  },
  {
   "cell_type": "code",
   "execution_count": 8,
   "id": "dd0af0d4",
   "metadata": {},
   "outputs": [
    {
     "execution_count": 8,
     "name": "stdout",
     "output_type": "stream",
     "text": [
      "[[[0.2 0.8]\n",
      "  [0.2 0.8]]\n",
      "\n",
      " [[0.5 0.5]\n",
      "  [0.6 0.4]]]\n"
     ]
    }
   ],
   "source": [
    "P = np.concatenate([P_dont_use[np.newaxis, ...], P_use[np.newaxis, ...]], axis=0)\n",
    "\n",
    "print(P)"
   ]
  },
  {
   "cell_type": "markdown",
   "id": "e4df3ade",
   "metadata": {},
   "source": [
    "## Apply value iteration algorithm to obtain the optimal solution"
   ]
  },
  {
   "cell_type": "code",
   "execution_count": 9,
   "id": "bf6d2679",
   "metadata": {},
   "outputs": [],
   "source": [
    "epsilon = 1e-7\n",
    "max_iterations = 10000\n",
    "values = []\n",
    "etas = [0.01, 0.75, 0.85]\n",
    "\n",
    "for eta in etas:\n",
    "    v = np.zeros(len(States))\n",
    "    \n",
    "    for iteration in range(1, max_iterations + 1):\n",
    "        delta = 0\n",
    "        for state in States:\n",
    "            state_action_values = np.zeros(len(Actions))\n",
    "            \n",
    "            for action in Actions:\n",
    "                cost = c(state, action, eta)\n",
    "                s = np.sum([\n",
    "                    P[action][state][next_state] * v[next_state]\n",
    "                    for next_state in States\n",
    "                ])\n",
    "                \n",
    "                state_action_values[action] = cost + beta * s\n",
    "            \n",
    "            delta = max(delta, np.abs(state_action_values.min() - v[state]))\n",
    "            v[state] = state_action_values.min()\n",
    "        \n",
    "        if delta < epsilon:\n",
    "            break\n",
    "    \n",
    "    values.append(v.copy())\n",
    "    \n",
    "values = np.array(values)"
   ]
  },
  {
   "cell_type": "code",
   "execution_count": 10,
   "id": "112fcc1e",
   "metadata": {},
   "outputs": [
    {
     "execution_count": 10,
     "name": "stdout",
     "output_type": "stream",
     "text": [
      "╒═══════╤═══════════════╤════════════════╕\n",
      "│   eta │   State \"Bad\" │   State \"Good\" │\n",
      "╞═══════╪═══════════════╪════════════════╡\n",
      "│  0.01 │     -5.24118  │      -5.96912  │\n",
      "├───────┼───────────────┼────────────────┤\n",
      "│  0.75 │     -1.32353  │      -1.50735  │\n",
      "├───────┼───────────────┼────────────────┤\n",
      "│  0.85 │     -0.794117 │      -0.904411 │\n",
      "╘═══════╧═══════════════╧════════════════╛\n"
     ]
    }
   ],
   "source": [
    "print(tabulate(zip(etas, *values.transpose()),\n",
    "               headers=['eta', 'State \"Bad\"', 'State \"Good\"'],\n",
    "               tablefmt='fancy_grid'))"
   ]
  },
  {
   "cell_type": "code",
   "execution_count": 11,
   "id": "9297bef8",
   "metadata": {},
   "outputs": [],
   "source": [
    "def get_best_action(state, values, eta):\n",
    "    state_action_values = np.zeros(len(Actions))\n",
    "    \n",
    "    for action in Actions:\n",
    "        cost = c(state, action, eta)\n",
    "        s = np.sum([\n",
    "            P[action][state][next_state] * values[next_state]\n",
    "            for next_state in States\n",
    "        ])\n",
    "        \n",
    "        state_action_values[action] = cost + beta * s\n",
    "        \n",
    "    return state_action_values.argmin()"
   ]
  },
  {
   "cell_type": "markdown",
   "id": "b1df0f44",
   "metadata": {},
   "source": [
    "The best actions for each state for each $\\eta$:"
   ]
  },
  {
   "cell_type": "code",
   "execution_count": 12,
   "id": "5dd39679",
   "metadata": {},
   "outputs": [
    {
     "execution_count": 12,
     "name": "stdout",
     "output_type": "stream",
     "text": [
      "╒═══════╤═══════════════╤════════════════╕\n",
      "│   eta │   State \"Bad\" │   State \"Good\" │\n",
      "╞═══════╪═══════════════╪════════════════╡\n",
      "│  0.01 │             0 │              1 │\n",
      "├───────┼───────────────┼────────────────┤\n",
      "│  0.75 │             0 │              1 │\n",
      "├───────┼───────────────┼────────────────┤\n",
      "│  0.85 │             0 │              1 │\n",
      "╘═══════╧═══════════════╧════════════════╛\n"
     ]
    }
   ],
   "source": [
    "best_actions = np.array([\n",
    "    [get_best_action(state, value, eta) for eta, value in zip(etas, values)]\n",
    "    for state in States\n",
    "])\n",
    "\n",
    "print(tabulate(zip(etas, *best_actions),\n",
    "               headers=['eta', 'State \"Bad\"', 'State \"Good\"'],\n",
    "               tablefmt='fancy_grid'))"
   ]
  },
  {
   "cell_type": "markdown",
   "id": "844e8c10",
   "metadata": {},
   "source": [
    "Hence, we should not try to use the channel when the channel state is bad, and we should try to use the channel when channel state is good."
   ]
  },
  {
   "cell_type": "markdown",
   "id": "ccd03604",
   "metadata": {},
   "source": [
    "## Apply policy iteration algorithm to obtain the optimal solution"
   ]
  },
  {
   "cell_type": "markdown",
   "id": "dfb9b093",
   "metadata": {},
   "source": [
    "### Define a function to generate random policies"
   ]
  },
  {
   "cell_type": "code",
   "execution_count": 13,
   "id": "1092f955",
   "metadata": {
    "scrolled": true
   },
   "outputs": [
    {
     "execution_count": 13,
     "name": "stdout",
     "output_type": "stream",
     "text": [
      "[[0.72586 0.27414]\n",
      " [0.36545 0.63455]]\n"
     ]
    }
   ],
   "source": [
    "def generate_policy():\n",
    "    return np.array([\n",
    "        np.random.dirichlet(np.ones(len(States))) \n",
    "        for _ in range(len(Actions))\n",
    "    ])\n",
    "\n",
    "print(generate_policy())"
   ]
  },
  {
   "cell_type": "markdown",
   "id": "fbf4faf0",
   "metadata": {},
   "source": [
    "### Define the policy evaluation function"
   ]
  },
  {
   "cell_type": "code",
   "execution_count": 14,
   "id": "8e76ad8d",
   "metadata": {},
   "outputs": [],
   "source": [
    "def evaluate_policy(pi, beta, eta, epsilon, max_iterations=1000):\n",
    "    v = np.zeros(len(States))\n",
    "\n",
    "    for _ in range(max_iterations):\n",
    "        v_new = np.zeros(len(States))\n",
    "        for state in States:\n",
    "            for action in Actions:\n",
    "                s = np.sum([\n",
    "                    P[action][state][next_state] * v[next_state]\n",
    "                    for next_state in States\n",
    "                ])\n",
    "\n",
    "                cost = c(state, action, eta)\n",
    "\n",
    "                v_new[state] += pi[state][action] * (cost + beta * s)\n",
    "            \n",
    "        v = v_new\n",
    "    return v_new"
   ]
  },
  {
   "cell_type": "code",
   "execution_count": 15,
   "id": "8771aa0b",
   "metadata": {},
   "outputs": [],
   "source": [
    "epsilon = 1e-7\n",
    "max_iterations = 10000\n",
    "policies = []\n",
    "etas = [0.01, 0.75, 0.85]\n",
    "\n",
    "for eta in etas:\n",
    "    pi = generate_policy()\n",
    "    \n",
    "    for iteration in range(1, max_iterations + 1):\n",
    "        pi_stable = True\n",
    "        v = evaluate_policy(pi, beta, eta, epsilon)\n",
    "        \n",
    "        for state in States:\n",
    "            values = np.zeros(len(Actions))\n",
    "            for action in Actions:\n",
    "                cost = c(state, action, eta)\n",
    "                s = np.sum([\n",
    "                    P[action][state][next_state] * v[next_state]\n",
    "                    for next_state in States\n",
    "                ])\n",
    "                \n",
    "                values[action] = cost + beta * s\n",
    "                \n",
    "            best_action = values.argmin()\n",
    "            policy_action = pi[state].argmax()\n",
    "            \n",
    "            if best_action != policy_action:\n",
    "                pi_stable = False\n",
    "                \n",
    "            pi[state] = np.identity(len(Actions))[best_action]\n",
    "        \n",
    "        if pi_stable:\n",
    "            break\n",
    "    \n",
    "    policies.append(pi)\n",
    "\n",
    "policies = np.array(policies)"
   ]
  },
  {
   "cell_type": "code",
   "execution_count": 16,
   "id": "d970411e",
   "metadata": {},
   "outputs": [
    {
     "execution_count": 16,
     "name": "stdout",
     "output_type": "stream",
     "text": [
      "╒═══════╤═══════════════╤════════════════╕\n",
      "│   eta │   State \"Bad\" │   State \"Good\" │\n",
      "╞═══════╪═══════════════╪════════════════╡\n",
      "│  0.01 │     -5.24118  │      -5.96912  │\n",
      "├───────┼───────────────┼────────────────┤\n",
      "│  0.75 │     -1.32353  │      -1.50735  │\n",
      "├───────┼───────────────┼────────────────┤\n",
      "│  0.85 │     -0.794118 │      -0.904412 │\n",
      "╘═══════╧═══════════════╧════════════════╛\n"
     ]
    }
   ],
   "source": [
    "values = np.array([\n",
    "    evaluate_policy(policy, beta, eta, epsilon) \n",
    "    for eta, policy in zip(etas, policies)\n",
    "])\n",
    "\n",
    "print(tabulate(zip(etas, *values.transpose()),\n",
    "               headers=['eta', 'State \"Bad\"', 'State \"Good\"'],\n",
    "               tablefmt='fancy_grid'))"
   ]
  },
  {
   "cell_type": "code",
   "execution_count": 17,
   "id": "bca00bc4",
   "metadata": {},
   "outputs": [
    {
     "execution_count": 17,
     "name": "stdout",
     "output_type": "stream",
     "text": [
      "╒═══════╤═══════════════╤════════════════╕\n",
      "│   eta │ State \"Bad\"   │ State \"Good\"   │\n",
      "╞═══════╪═══════════════╪════════════════╡\n",
      "│  0.01 │ DONT_USE      │ USE            │\n",
      "├───────┼───────────────┼────────────────┤\n",
      "│  0.75 │ DONT_USE      │ USE            │\n",
      "├───────┼───────────────┼────────────────┤\n",
      "│  0.85 │ DONT_USE      │ USE            │\n",
      "╘═══════╧═══════════════╧════════════════╛\n"
     ]
    }
   ],
   "source": [
    "print(tabulate(zip(\n",
    "    etas, \n",
    "    map(lambda action: Actions(action).name, policies.argmax(axis=-1)[..., 0]),\n",
    "    map(lambda action: Actions(action).name, policies.argmax(axis=-1)[..., 1])\n",
    "), headers=['eta', 'State \"Bad\"', 'State \"Good\"'], tablefmt='fancy_grid'))"
   ]
  },
  {
   "cell_type": "markdown",
   "id": "85c4ccc3",
   "metadata": {},
   "source": [
    "Notice that we obtained the same results as in value iteration."
   ]
  },
  {
   "cell_type": "markdown",
   "id": "4592b56e",
   "metadata": {},
   "source": [
    "## Apply Q-Learning algorithm to obtain the optimal solution"
   ]
  },
  {
   "cell_type": "code",
   "execution_count": 18,
   "id": "0ce443e2",
   "metadata": {},
   "outputs": [],
   "source": [
    "def alpha(state, action, n_occurences):\n",
    "    return 20 / (20 + n_occurences[state][action])"
   ]
  },
  {
   "cell_type": "code",
   "execution_count": 19,
   "id": "3cc4c3ce",
   "metadata": {},
   "outputs": [],
   "source": [
    "def get_starting_state():\n",
    "    return np.random.choice(States)"
   ]
  },
  {
   "cell_type": "code",
   "execution_count": 20,
   "id": "93941f63",
   "metadata": {},
   "outputs": [],
   "source": [
    "def get_next_state(state, action):\n",
    "    return np.random.choice(States, p=P[action][state])"
   ]
  },
  {
   "cell_type": "code",
   "execution_count": 21,
   "id": "99e2385d",
   "metadata": {},
   "outputs": [],
   "source": [
    "def epsilon_decay_schedule(episode):\n",
    "    return 1 / np.log10(10 + episode)\n",
    "\n",
    "def epsilon_greedy_policy(state, q_values, epsilon):\n",
    "    if np.random.rand() < epsilon:\n",
    "        return np.random.choice(Actions)\n",
    "    else:\n",
    "        return np.argmin(q_values[state])"
   ]
  },
  {
   "cell_type": "code",
   "execution_count": 22,
   "id": "bd17c16f",
   "metadata": {},
   "outputs": [
    {
     "execution_count": 22,
     "name": "stderr",
     "output_type": "stream",
     "text": [
      "100%|██████████████████████████████| 1000000/1000000 [01:29<00:00, 11206.75it/s]\n"
     ]
    }
   ],
   "source": [
    "max_iterations = 1000000\n",
    "q_values = np.zeros((len(States), len(Actions)))\n",
    "n_occurences = np.zeros((len(States), len(Actions)))\n",
    "eta = 0.75\n",
    "\n",
    "\n",
    "state = get_starting_state()\n",
    "for iteration in tqdm(range(1, max_iterations + 1)):\n",
    "    epsilon = epsilon_decay_schedule(iteration)\n",
    "    action = epsilon_greedy_policy(state, q_values, epsilon)\n",
    "    cost = c(state, action, eta)\n",
    "\n",
    "    next_state = get_next_state(state, action)\n",
    "    td = cost + beta * q_values[next_state].min() - q_values[state][action]\n",
    "    \n",
    "    q_values[state][action] += alpha(state, action, n_occurences) * td\n",
    "    n_occurences[state][action] += 1\n",
    "    \n",
    "    state = next_state"
   ]
  },
  {
   "cell_type": "markdown",
   "id": "f3fd40b7",
   "metadata": {},
   "source": [
    "We obtained approximately the same results as in value and policy iterations. We would need more iterations to converge to the same value."
   ]
  },
  {
   "cell_type": "code",
   "execution_count": 23,
   "id": "47396ab3",
   "metadata": {
    "scrolled": true
   },
   "outputs": [
    {
     "execution_count": 23,
     "name": "stdout",
     "output_type": "stream",
     "text": [
      "╒═══════════╤═══════════════╤════════════════╕\n",
      "│ Actions   │   State \"Bad\" │   State \"Good\" │\n",
      "╞═══════════╪═══════════════╪════════════════╡\n",
      "│ DONT_USE  │      -1.32402 │      -0.523792 │\n",
      "├───────────┼───────────────┼────────────────┤\n",
      "│ USE       │      -1.3237  │      -1.50791  │\n",
      "╘═══════════╧═══════════════╧════════════════╛\n"
     ]
    }
   ],
   "source": [
    "print(tabulate(zip(\n",
    "    map(lambda action: action.name, Actions), \n",
    "    *q_values.transpose()\n",
    "), headers=['Actions', 'State \"Bad\"', 'State \"Good\"'], tablefmt='fancy_grid'))"
   ]
  },
  {
   "cell_type": "code",
   "execution_count": 24,
   "id": "559a4ab8",
   "metadata": {
    "scrolled": true
   },
   "outputs": [
    {
     "execution_count": 24,
     "name": "stdout",
     "output_type": "stream",
     "text": [
      "╒═══════╤═══════════════╤════════════════╕\n",
      "│   eta │   State \"Bad\" │   State \"Good\" │\n",
      "╞═══════╪═══════════════╪════════════════╡\n",
      "│  0.75 │             0 │              1 │\n",
      "╘═══════╧═══════════════╧════════════════╛\n"
     ]
    }
   ],
   "source": [
    "print(tabulate(zip(\n",
    "    [eta], \n",
    "    [epsilon_greedy_policy(States.BAD, q_values, epsilon=0)],\n",
    "    [epsilon_greedy_policy(States.GOOD, q_values, epsilon=0)]\n",
    "), headers=['eta', 'State \"Bad\"', 'State \"Good\"'], tablefmt='fancy_grid'))"
   ]
  },
  {
   "cell_type": "markdown",
   "id": "6be3b28b",
   "metadata": {},
   "source": [
    "## Convex analytic method for average cost optimality"
   ]
  },
  {
   "cell_type": "markdown",
   "id": "88454d98",
   "metadata": {},
   "source": [
    "From the convex analytic method, an optimal policy will be stationary and deterministic.\n",
    "\n",
    "Let\n",
    "\n",
    "$$\n",
    "\\gamma(u = 0 \\vert x = B) = 1 - \\alpha\n",
    "$$\n",
    "\n",
    "$$\n",
    "\\gamma(u = 1 \\vert x = B) = \\alpha\n",
    "$$\n",
    "\n",
    "$$\n",
    "\\gamma(u = 0 \\vert x = G) = 1 - \\beta\n",
    "$$\n",
    "\n",
    "$$\n",
    "\\gamma(u = 1 \\vert x = G) = \\beta\n",
    "$$\n",
    "\n",
    "and $\\pi$ be the corresponding invarient probability meaure. Then,\n",
    "\n",
    "$$\n",
    "\\pi(B) = \\dfrac{0.2 + 0.4\\beta}{1 - 0.3\\alpha + 0.4\\beta}\n",
    "$$\n",
    "\n",
    "$$\n",
    "\\pi(G) = \\dfrac{0.8 - 0.3\\alpha}{1 - 0.3\\alpha + 0.4\\beta}\n",
    "$$"
   ]
  },
  {
   "cell_type": "markdown",
   "id": "0ef7b1be",
   "metadata": {},
   "source": [
    "Hence, our objective is to minimize\n",
    "\n",
    "$$\n",
    "J(x_0, \\gamma) = \\pi(B) \\alpha \\eta + \\pi(G) \\beta(\\eta - 1)\n",
    "$$\n",
    "\n",
    "$$\n",
    "= \\dfrac{0.2 + 0.4\\beta}{1 - 0.3\\alpha + 0.4\\beta} \\alpha \\eta + \\dfrac{0.8 - 0.3\\alpha}{1 - 0.3\\alpha + 0.4\\beta} \\beta(\\eta - 1)\n",
    "$$\n",
    "\n",
    "$$\n",
    "= \\dfrac{2\\eta\\alpha + (\\eta+3)\\alpha\\beta + 8(\\eta-1)\\beta}\n",
    "{10 - 3 \\alpha + 4 \\beta}\n",
    "$$\n",
    "\n",
    "Recall that an optimal policy will be deterministic, and we have 4 possibilities for $\\alpha$ and $\\beta$ such that\n",
    "\n",
    "\n",
    "$\\alpha = 0$ and $\\beta = 0$ $\\implies J(x_0, \\gamma) = 0$\n",
    "\n",
    "$\\alpha = 0$ and $\\beta = 1$ $\\implies J(x_0, \\gamma) = \\dfrac{4}{7}(\\eta - 1)$\n",
    "\n",
    "$\\alpha = 1$ and $\\beta = 0$ $\\implies J(x_0, \\gamma) = \\dfrac{2}{7}\\eta$\n",
    "\n",
    "$\\alpha = 1$ and $\\beta = 1$ $\\implies J(x_0, \\gamma) = \\eta - \\dfrac{5}{11}$"
   ]
  },
  {
   "cell_type": "markdown",
   "id": "ec72ae5d",
   "metadata": {},
   "source": [
    "Hence, \n",
    "\n",
    "$$\n",
    "\\min_{\\gamma}J(x_0, \\gamma) = \\min(0, \\dfrac{4}{7}(\\eta - 1), \\dfrac{2}{7}\\eta, \\eta - \\dfrac{5}{11})\n",
    "$$\n",
    "\n",
    "and an optimal policy is deterministic with the values of $\\alpha$ and $\\beta$ that minimizes $J(x_0, \\gamma)$."
   ]
  },
  {
   "cell_type": "markdown",
   "id": "ac734c7a",
   "metadata": {},
   "source": [
    "Let $\\eta = 0.75$. From the discussion above, we know that $\\alpha = 0$ and $\\beta = 1$ is optimal for $\\eta = 0.75$."
   ]
  },
  {
   "cell_type": "code",
   "execution_count": 25,
   "id": "103f5600",
   "metadata": {},
   "outputs": [],
   "source": [
    "def objective(x, eta=0.75):\n",
    "    alpha = x[0]\n",
    "    beta = x[1]\n",
    "    d = 2 * eta * alpha + (eta + 3) * alpha * beta + 8 * (eta - 1) * beta\n",
    "    n = 10 - 3 * alpha + 4 * beta\n",
    "    return d / n"
   ]
  },
  {
   "cell_type": "code",
   "execution_count": 26,
   "id": "3e1e6be5",
   "metadata": {},
   "outputs": [],
   "source": [
    "bounds = ((0, 1), (0, 1))"
   ]
  },
  {
   "cell_type": "markdown",
   "id": "f4cb6c9b",
   "metadata": {},
   "source": [
    "Let us inject our prior knowledge to the algorithm."
   ]
  },
  {
   "cell_type": "code",
   "execution_count": 27,
   "id": "0445a016",
   "metadata": {},
   "outputs": [
    {
     "execution_count": 27,
     "name": "stdout",
     "output_type": "stream",
     "text": [
      "[0, 1]\n"
     ]
    }
   ],
   "source": [
    "x0 = [0, 1]\n",
    "\n",
    "print(x0)"
   ]
  },
  {
   "cell_type": "code",
   "execution_count": 28,
   "id": "f8eaebe9",
   "metadata": {
    "scrolled": true
   },
   "outputs": [
    {
     "execution_count": 28,
     "name": "stdout",
     "output_type": "stream",
     "text": [
      "Minimum value: -0.14285714285714285\n",
      "Optimal policy: alpha=0.0, beta=1.0\n"
     ]
    }
   ],
   "source": [
    "minimized = minimize(objective, x0, bounds=bounds, method='SLSQP')\n",
    "\n",
    "print('Minimum value:', minimized.fun)\n",
    "print(f'Optimal policy: alpha={minimized.x[0]}, beta={minimized.x[1]}')"
   ]
  },
  {
   "cell_type": "markdown",
   "id": "96d38038",
   "metadata": {},
   "source": [
    "We do not need any prior knowledge at all:"
   ]
  },
  {
   "cell_type": "code",
   "execution_count": 29,
   "id": "bcd2c749",
   "metadata": {},
   "outputs": [
    {
     "execution_count": 29,
     "name": "stdout",
     "output_type": "stream",
     "text": [
      "[0.52901 0.86447]\n"
     ]
    }
   ],
   "source": [
    "x0 = np.random.rand(2)\n",
    "\n",
    "print(x0)"
   ]
  },
  {
   "cell_type": "code",
   "execution_count": 30,
   "id": "c60a9eca",
   "metadata": {},
   "outputs": [
    {
     "execution_count": 30,
     "name": "stdout",
     "output_type": "stream",
     "text": [
      "Minimum value: -0.14285714285714246\n",
      "Optimal policy: alpha=9.5708770726464e-16, beta=0.9999999999999994\n"
     ]
    }
   ],
   "source": [
    "minimized = minimize(objective, x0, bounds=bounds, method='SLSQP')\n",
    "\n",
    "print('Minimum value:', minimized.fun)\n",
    "print(f'Optimal policy: alpha={minimized.x[0]}, beta={minimized.x[1]}')"
   ]
  },
  {
   "cell_type": "markdown",
   "id": "d8c2c323",
   "metadata": {},
   "source": [
    "Note that we minimized the function using Sequential Least Squares Programming (SLSQP) because our objective was not linear in $\\alpha$ and $\\beta$."
   ]
  },
  {
   "cell_type": "markdown",
   "id": "f883a384",
   "metadata": {},
   "source": [
    "# Problem 2: The Kalman Filter"
   ]
  },
  {
   "cell_type": "markdown",
   "id": "be5cd668",
   "metadata": {},
   "source": [
    "Consider the following controlled linear system.\n",
    "\n",
    "$$ x_{t+1} = Ax_t + w_t $$\n",
    "$$ y_t = Cx_t + v_t $$\n",
    "\n",
    "Define\n",
    "\n",
    "$$ W = \\mathbf{E}[w_tw_t^T] $$\n",
    "$$ V = \\mathbf{E}[v_tv_t^T] $$\n",
    "\n",
    "$$ m_t = \\mathbf{E}[x_t \\lvert y_{[0, t-1]}] $$\n",
    "$$ \\Sigma_{t+1 \\lvert t} = \\mathbf{E}[(x - \\mathbf{E}[x_t \\lvert y_{[0, t-1]}])(x - \\mathbf{E}[x_t \\lvert y_{[0, t-1]}])^T \\lvert y_{[0, t-1]}] $$\n",
    "\n",
    "Then, with\n",
    "\n",
    "$$ m_0 = \\mathbf{E}[x_0] $$\n",
    "$$ \\Sigma_{0 \\lvert -1} = \\mathbf{E}[x_0x_0^T] $$\n",
    "\n",
    "the following holds\n",
    "\n",
    "$$ m_{t+1} = A m_t + A \\Sigma_{t \\lvert t - 1} C^T (C \\Sigma_{t \\lvert t - 1} C^T + V)^{-1} (y_t - C m_t) $$\n",
    "$$ \\Sigma_{t + 1 \\lvert t} = A \\Sigma_{t \\lvert t - 1} A^T + W - (A \\Sigma_{t \\lvert t - 1} C^T)(C \\Sigma_{t \\lvert t - 1} C^T + V)^{-1} (C \\Sigma_{t \\lvert t - 1} A^T) $$"
   ]
  },
  {
   "cell_type": "markdown",
   "id": "c51d58e4",
   "metadata": {},
   "source": [
    "### Kalman Filter Implementation"
   ]
  },
  {
   "cell_type": "code",
   "execution_count": 31,
   "id": "9ae66089",
   "metadata": {},
   "outputs": [],
   "source": [
    "def calculate_m(A, C, V, m, sigma, y):\n",
    "    return A @ m + np.expand_dims(A @ sigma @ C.T, axis=1) @ np.linalg.inv(C @ sigma @ C.T + V) @ np.expand_dims(y - C @ m, axis=0)"
   ]
  },
  {
   "cell_type": "code",
   "execution_count": 32,
   "id": "315b1ea1",
   "metadata": {},
   "outputs": [],
   "source": [
    "def calculate_sigma(A, C, W, V, m, sigma, y):\n",
    "    return A @ sigma @ A.T + W - np.expand_dims(A @ sigma @ C.T, axis=1) @ np.linalg.inv(C @ sigma @ C.T + V) @ np.expand_dims(C @ sigma @ A.T, axis=0)"
   ]
  },
  {
   "cell_type": "code",
   "execution_count": 33,
   "id": "f9aaa792",
   "metadata": {},
   "outputs": [
    {
     "execution_count": 33,
     "name": "stdout",
     "output_type": "stream",
     "text": [
      "[[0.5 1.  0. ]\n",
      " [0.  0.5 1. ]\n",
      " [0.  0.  0.5]]\n"
     ]
    }
   ],
   "source": [
    "A = np.array([\n",
    "    [0.5, 1, 0],\n",
    "    [0, 0.5, 1],\n",
    "    [0, 0, 0.5]\n",
    "])\n",
    "\n",
    "print(A)"
   ]
  },
  {
   "cell_type": "code",
   "execution_count": 34,
   "id": "e1965740",
   "metadata": {
    "scrolled": true
   },
   "outputs": [
    {
     "execution_count": 34,
     "name": "stdout",
     "output_type": "stream",
     "text": [
      "[4 0 0]\n"
     ]
    }
   ],
   "source": [
    "C = np.array([4, 0, 0])\n",
    "\n",
    "print(C)"
   ]
  },
  {
   "cell_type": "code",
   "execution_count": 35,
   "id": "448f21ec",
   "metadata": {},
   "outputs": [
    {
     "execution_count": 35,
     "name": "stdout",
     "output_type": "stream",
     "text": [
      "[[1. 0. 0.]\n",
      " [0. 1. 0.]\n",
      " [0. 0. 1.]]\n"
     ]
    }
   ],
   "source": [
    "W = np.identity(3)\n",
    "\n",
    "print(W)"
   ]
  },
  {
   "cell_type": "code",
   "execution_count": 36,
   "id": "a345a7ae",
   "metadata": {},
   "outputs": [
    {
     "execution_count": 36,
     "name": "stdout",
     "output_type": "stream",
     "text": [
      "[[1.]]\n"
     ]
    }
   ],
   "source": [
    "V = np.ones(shape=(1, 1))\n",
    "\n",
    "print(V)"
   ]
  },
  {
   "cell_type": "code",
   "execution_count": 37,
   "id": "2b0ce9c0",
   "metadata": {},
   "outputs": [],
   "source": [
    "def generate_w():\n",
    "    return np.random.multivariate_normal(mean=np.zeros(3), cov=np.identity(3))"
   ]
  },
  {
   "cell_type": "code",
   "execution_count": 38,
   "id": "9bcd0372",
   "metadata": {},
   "outputs": [],
   "source": [
    "def generate_v():\n",
    "    return np.random.normal()"
   ]
  },
  {
   "cell_type": "code",
   "execution_count": 39,
   "id": "75ae667a",
   "metadata": {},
   "outputs": [],
   "source": [
    "T = 1000\n",
    "\n",
    "w = generate_w()\n",
    "v = generate_v()\n",
    "x = np.random.multivariate_normal(mean=np.zeros(3), cov=np.identity(3))\n",
    "y = C @ x + v\n",
    "\n",
    "m = np.zeros(3)\n",
    "sigma = np.identity(3)\n",
    "\n",
    "xs = [x]\n",
    "ms = [m]\n",
    "\n",
    "for t in range(T):\n",
    "    w = generate_w()\n",
    "    v = generate_v()\n",
    "    \n",
    "    x = A @ x + w\n",
    "    y = C @ x + v\n",
    "    \n",
    "    m = calculate_m(A, C, V, m, sigma, y)\n",
    "    sigma = calculate_sigma(A, C, W, V, m, sigma, y)\n",
    "    \n",
    "    xs.append(x)\n",
    "    ms.append(m)"
   ]
  },
  {
   "cell_type": "code",
   "execution_count": 40,
   "id": "4067d1ff",
   "metadata": {},
   "outputs": [],
   "source": [
    "xs = np.array(xs)\n",
    "ms = np.array(ms)"
   ]
  },
  {
   "cell_type": "code",
   "execution_count": 41,
   "id": "846618af",
   "metadata": {
    "scrolled": false
   },
   "outputs": [
    {
     "data": {
      "image/png": "[encoded data removed]",
      "text/plain": [
       "<Figure size 432x288 with 1 Axes>"
      ]
     },
     "execution_count": 41,
     "metadata": {
      "needs_background": "light"
     },
     "output_type": "display_data"
    }
   ],
   "source": [
    "plt.plot(xs)\n",
    "plt.title('$x_t$', fontsize=16)\n",
    "plt.show()"
   ]
  },
  {
   "cell_type": "code",
   "execution_count": 42,
   "id": "3470c5ec",
   "metadata": {},
   "outputs": [
    {
     "data": {
      "image/png": "[encoded data removed]",
      "text/plain": [
       "<Figure size 432x288 with 1 Axes>"
      ]
     },
     "execution_count": 42,
     "metadata": {
      "needs_background": "light"
     },
     "output_type": "display_data"
    }
   ],
   "source": [
    "plt.plot(ms)\n",
    "plt.title('$m_t$', fontsize=16)\n",
    "plt.show()"
   ]
  },
  {
   "cell_type": "code",
   "execution_count": 43,
   "id": "97114648",
   "metadata": {
    "scrolled": true
   },
   "outputs": [
    {
     "data": {
      "image/png": "[encoded data removed]",
      "text/plain": [
       "<Figure size 432x288 with 1 Axes>"
      ]
     },
     "execution_count": 43,
     "metadata": {
      "needs_background": "light"
     },
     "output_type": "display_data"
    }
   ],
   "source": [
    "plt.plot(xs - ms)\n",
    "plt.title('$x_t - m_t$', fontsize=16)\n",
    "plt.show()"
   ]
  },
  {
   "cell_type": "code",
   "execution_count": 44,
   "id": "40c62731",
   "metadata": {},
   "outputs": [
    {
     "data": {
      "text/plain": [
       "array([-0.23247, -0.07298, -0.09525])"
      ]
     },
     "execution_count": 44,
     "metadata": {},
     "output_type": "execute_result"
    }
   ],
   "source": [
    "xs.mean(axis=0)"
   ]
  },
  {
   "cell_type": "code",
   "execution_count": 45,
   "id": "0ee84bc8",
   "metadata": {},
   "outputs": [
    {
     "data": {
      "text/plain": [
       "array([-0.18886, -0.04356, -0.00437])"
      ]
     },
     "execution_count": 45,
     "metadata": {},
     "output_type": "execute_result"
    }
   ],
   "source": [
    "ms.mean(axis=0)"
   ]
  },
  {
   "cell_type": "code",
   "execution_count": 46,
   "id": "313275bd",
   "metadata": {},
   "outputs": [
    {
     "data": {
      "text/plain": [
       "array([-0.04361, -0.02942, -0.09088])"
      ]
     },
     "execution_count": 46,
     "metadata": {},
     "output_type": "execute_result"
    }
   ],
   "source": [
    "(xs - ms).mean(axis=0)"
   ]
  },
  {
   "cell_type": "markdown",
   "id": "00afc997",
   "metadata": {},
   "source": [
    "The Ricatti recursions converge to a fixed point if $(A^T, C^T)$ is controllable (or $(A, C)$ is observable) and $V>0$. This fixed point is unique if, in addition, $(A, B)$ is controllable (or $(A^T, B^T)$ is observable) with $W = BB^T$.\n",
    "\n",
    "Recall our system:\n",
    "\n",
    "$$ x_{t+1} = Ax_t + w_t $$\n",
    "$$ y_t = Cx_t + v_t $$"
   ]
  },
  {
   "cell_type": "markdown",
   "id": "18a1cb39",
   "metadata": {},
   "source": [
    "The system is observable if and only if the observability matrix has rank $n$, where $n$ is the dimension of the measurements (which is 3 in our case)."
   ]
  },
  {
   "cell_type": "code",
   "execution_count": 47,
   "id": "d4aadd90",
   "metadata": {},
   "outputs": [],
   "source": [
    "def calculate_observability_matrix(A, C):\n",
    "    measurement_dimension = A.shape[1]\n",
    "    O = [C]\n",
    "    A_powers = A\n",
    "    for _ in range(1, measurement_dimension):\n",
    "        row = C @ A_powers\n",
    "        O.append(row)\n",
    "        A_powers = A_powers @ A\n",
    "    return np.array(O)"
   ]
  },
  {
   "cell_type": "code",
   "execution_count": 48,
   "id": "b707df0e",
   "metadata": {
    "scrolled": true
   },
   "outputs": [
    {
     "execution_count": 48,
     "name": "stdout",
     "output_type": "stream",
     "text": [
      "[[4. 0. 0.]\n",
      " [2. 4. 0.]\n",
      " [1. 4. 4.]]\n"
     ]
    }
   ],
   "source": [
    "O = calculate_observability_matrix(A, C)\n",
    "\n",
    "print(O)"
   ]
  },
  {
   "cell_type": "code",
   "execution_count": 49,
   "id": "dbd6b67c",
   "metadata": {},
   "outputs": [
    {
     "execution_count": 49,
     "name": "stdout",
     "output_type": "stream",
     "text": [
      "Measurement dimensions: 3\n",
      "Observability matrix rank: 3\n"
     ]
    }
   ],
   "source": [
    "print('Measurement dimensions:', A.shape[1])\n",
    "print('Observability matrix rank:', np.linalg.matrix_rank(O))"
   ]
  },
  {
   "cell_type": "markdown",
   "id": "bac9aa84",
   "metadata": {},
   "source": [
    "Then, the system satisfies the observability condition for $(A, C)$."
   ]
  },
  {
   "cell_type": "code",
   "execution_count": 50,
   "id": "a17ee609",
   "metadata": {},
   "outputs": [],
   "source": [
    "T = 1000\n",
    "\n",
    "all_sigmas = []\n",
    "\n",
    "for i in range(5):\n",
    "    w = generate_w()\n",
    "    v = generate_v()\n",
    "    x = np.random.multivariate_normal(mean=np.zeros(3), cov=np.identity(3))\n",
    "    y = C @ x + v\n",
    "    \n",
    "\n",
    "    m = np.zeros(3)\n",
    "    sigma = np.identity(3) * (i + 1)\n",
    "\n",
    "    sigmas = [sigma]\n",
    "    \n",
    "    for t in range(T):\n",
    "        w = generate_w()\n",
    "        v = generate_v()\n",
    "\n",
    "        x = A @ x + w\n",
    "        y = C @ x + v\n",
    "\n",
    "        m = calculate_m(A, C, V, m, sigma, y)\n",
    "        sigma = calculate_sigma(A, C, W, V, m, sigma, y)\n",
    "\n",
    "        sigmas.append(sigma)\n",
    "    all_sigmas.append(sigmas)"
   ]
  },
  {
   "cell_type": "code",
   "execution_count": 51,
   "id": "32ec2159",
   "metadata": {
    "scrolled": false
   },
   "outputs": [
    {
     "data": {
      "image/png": "[encoded data removed]",
      "text/plain": [
       "<Figure size 432x288 with 1 Axes>"
      ]
     },
     "execution_count": 51,
     "metadata": {
      "needs_background": "light"
     },
     "output_type": "display_data"
    },
    {
     "data": {
      "image/png": "[encoded data removed]",
      "text/plain": [
       "<Figure size 432x288 with 1 Axes>"
      ]
     },
     "execution_count": 51,
     "metadata": {
      "needs_background": "light"
     },
     "output_type": "display_data"
    },
    {
     "data": {
      "image/png": "[encoded data removed]",
      "text/plain": [
       "<Figure size 432x288 with 1 Axes>"
      ]
     },
     "execution_count": 51,
     "metadata": {
      "needs_background": "light"
     },
     "output_type": "display_data"
    },
    {
     "data": {
      "image/png": "[encoded data removed]",
      "text/plain": [
       "<Figure size 432x288 with 1 Axes>"
      ]
     },
     "execution_count": 51,
     "metadata": {
      "needs_background": "light"
     },
     "output_type": "display_data"
    },
    {
     "data": {
      "image/png": "[encoded data removed]",
      "text/plain": [
       "<Figure size 432x288 with 1 Axes>"
      ]
     },
     "execution_count": 51,
     "metadata": {
      "needs_background": "light"
     },
     "output_type": "display_data"
    }
   ],
   "source": [
    "for sigmas in all_sigmas:\n",
    "    plt.figure()\n",
    "    flat = np.array([\n",
    "        sigma.flatten()\n",
    "        for sigma in sigmas\n",
    "    ])\n",
    "    plt.plot(flat[:20])\n",
    "    plt.title('All $\\Sigma$ entries in the first 20 timesteps (some may overlap)')\n",
    "    plt.show()"
   ]
  },
  {
   "cell_type": "markdown",
   "id": "e3d87a7b",
   "metadata": {},
   "source": [
    "We can observe that, for all initial values, the Ricatti equation converges to a fixed point in the first few timesteps. In fact, they all converge to the same fixed point as we can see in the following plot."
   ]
  },
  {
   "cell_type": "code",
   "execution_count": 52,
   "id": "dbf82071",
   "metadata": {},
   "outputs": [
    {
     "data": {
      "image/png": "[encoded data removed]",
      "text/plain": [
       "<Figure size 432x288 with 1 Axes>"
      ]
     },
     "execution_count": 52,
     "metadata": {
      "needs_background": "light"
     },
     "output_type": "display_data"
    }
   ],
   "source": [
    "plt.figure()\n",
    "for sigmas in all_sigmas:\n",
    "    flat = np.array([\n",
    "        sigma.flatten()\n",
    "        for sigma in sigmas\n",
    "    ])\n",
    "    plt.plot(flat[:20])\n",
    "    plt.title('All $\\Sigma$ entries in the first 20 timesteps (some may overlap)')\n",
    "plt.show()"
   ]
  }
 ],
 "metadata": {
  "kernelspec": {
   "display_name": "Python 3 (ipykernel)",
   "language": "python",
   "name": "python3"
  },
  "language_info": {
   "codemirror_mode": {
    "name": "ipython",
    "version": 3
   },
   "file_extension": ".py",
   "mimetype": "text/x-python",
   "name": "python",
   "nbconvert_exporter": "python",
   "pygments_lexer": "ipython3",
   "version": "3.8.8"
  }
 },
 "nbformat": 4,
 "nbformat_minor": 5
}
